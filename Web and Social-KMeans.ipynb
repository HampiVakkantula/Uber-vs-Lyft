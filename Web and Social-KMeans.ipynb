{
 "cells": [
  {
   "cell_type": "code",
   "execution_count": 1,
   "id": "9c68ed22",
   "metadata": {},
   "outputs": [],
   "source": [
    "import pandas as pd\n",
    "import numpy as np\n",
    "import matplotlib.pyplot as plt"
   ]
  },
  {
   "cell_type": "code",
   "execution_count": 2,
   "id": "a762577a",
   "metadata": {},
   "outputs": [],
   "source": [
    "cabData = pd.read_csv(\"C:/Users/hampi/OneDrive/Desktop/dataset/cab_rides.csv\")"
   ]
  },
  {
   "cell_type": "code",
   "execution_count": 3,
   "id": "4bd53bfc",
   "metadata": {},
   "outputs": [
    {
     "data": {
      "text/html": [
       "<div>\n",
       "<style scoped>\n",
       "    .dataframe tbody tr th:only-of-type {\n",
       "        vertical-align: middle;\n",
       "    }\n",
       "\n",
       "    .dataframe tbody tr th {\n",
       "        vertical-align: top;\n",
       "    }\n",
       "\n",
       "    .dataframe thead th {\n",
       "        text-align: right;\n",
       "    }\n",
       "</style>\n",
       "<table border=\"1\" class=\"dataframe\">\n",
       "  <thead>\n",
       "    <tr style=\"text-align: right;\">\n",
       "      <th></th>\n",
       "      <th>distance</th>\n",
       "      <th>cab_type</th>\n",
       "      <th>time_stamp</th>\n",
       "      <th>destination</th>\n",
       "      <th>source</th>\n",
       "      <th>price</th>\n",
       "      <th>surge_multiplier</th>\n",
       "      <th>id</th>\n",
       "      <th>product_id</th>\n",
       "      <th>name</th>\n",
       "    </tr>\n",
       "  </thead>\n",
       "  <tbody>\n",
       "    <tr>\n",
       "      <th>0</th>\n",
       "      <td>0.44</td>\n",
       "      <td>Lyft</td>\n",
       "      <td>1.540000e+12</td>\n",
       "      <td>North Station</td>\n",
       "      <td>Haymarket Square</td>\n",
       "      <td>5.0</td>\n",
       "      <td>1.0</td>\n",
       "      <td>424553bb-7174-41ea-aeb4-fe06d4f4b9d7</td>\n",
       "      <td>lyft_line</td>\n",
       "      <td>Shared</td>\n",
       "    </tr>\n",
       "    <tr>\n",
       "      <th>1</th>\n",
       "      <td>0.44</td>\n",
       "      <td>Lyft</td>\n",
       "      <td>1.540000e+12</td>\n",
       "      <td>North Station</td>\n",
       "      <td>Haymarket Square</td>\n",
       "      <td>11.0</td>\n",
       "      <td>1.0</td>\n",
       "      <td>4bd23055-6827-41c6-b23b-3c491f24e74d</td>\n",
       "      <td>lyft_premier</td>\n",
       "      <td>Lux</td>\n",
       "    </tr>\n",
       "    <tr>\n",
       "      <th>2</th>\n",
       "      <td>0.44</td>\n",
       "      <td>Lyft</td>\n",
       "      <td>1.540000e+12</td>\n",
       "      <td>North Station</td>\n",
       "      <td>Haymarket Square</td>\n",
       "      <td>7.0</td>\n",
       "      <td>1.0</td>\n",
       "      <td>981a3613-77af-4620-a42a-0c0866077d1e</td>\n",
       "      <td>lyft</td>\n",
       "      <td>Lyft</td>\n",
       "    </tr>\n",
       "    <tr>\n",
       "      <th>3</th>\n",
       "      <td>0.44</td>\n",
       "      <td>Lyft</td>\n",
       "      <td>1.540000e+12</td>\n",
       "      <td>North Station</td>\n",
       "      <td>Haymarket Square</td>\n",
       "      <td>26.0</td>\n",
       "      <td>1.0</td>\n",
       "      <td>c2d88af2-d278-4bfd-a8d0-29ca77cc5512</td>\n",
       "      <td>lyft_luxsuv</td>\n",
       "      <td>Lux Black XL</td>\n",
       "    </tr>\n",
       "    <tr>\n",
       "      <th>4</th>\n",
       "      <td>0.44</td>\n",
       "      <td>Lyft</td>\n",
       "      <td>1.540000e+12</td>\n",
       "      <td>North Station</td>\n",
       "      <td>Haymarket Square</td>\n",
       "      <td>9.0</td>\n",
       "      <td>1.0</td>\n",
       "      <td>e0126e1f-8ca9-4f2e-82b3-50505a09db9a</td>\n",
       "      <td>lyft_plus</td>\n",
       "      <td>Lyft XL</td>\n",
       "    </tr>\n",
       "  </tbody>\n",
       "</table>\n",
       "</div>"
      ],
      "text/plain": [
       "   distance cab_type    time_stamp    destination            source  price  \\\n",
       "0      0.44     Lyft  1.540000e+12  North Station  Haymarket Square    5.0   \n",
       "1      0.44     Lyft  1.540000e+12  North Station  Haymarket Square   11.0   \n",
       "2      0.44     Lyft  1.540000e+12  North Station  Haymarket Square    7.0   \n",
       "3      0.44     Lyft  1.540000e+12  North Station  Haymarket Square   26.0   \n",
       "4      0.44     Lyft  1.540000e+12  North Station  Haymarket Square    9.0   \n",
       "\n",
       "   surge_multiplier                                    id    product_id  \\\n",
       "0               1.0  424553bb-7174-41ea-aeb4-fe06d4f4b9d7     lyft_line   \n",
       "1               1.0  4bd23055-6827-41c6-b23b-3c491f24e74d  lyft_premier   \n",
       "2               1.0  981a3613-77af-4620-a42a-0c0866077d1e          lyft   \n",
       "3               1.0  c2d88af2-d278-4bfd-a8d0-29ca77cc5512   lyft_luxsuv   \n",
       "4               1.0  e0126e1f-8ca9-4f2e-82b3-50505a09db9a     lyft_plus   \n",
       "\n",
       "           name  \n",
       "0        Shared  \n",
       "1           Lux  \n",
       "2          Lyft  \n",
       "3  Lux Black XL  \n",
       "4       Lyft XL  "
      ]
     },
     "execution_count": 3,
     "metadata": {},
     "output_type": "execute_result"
    }
   ],
   "source": [
    "cabData = cabData.dropna()\n",
    "cabData.head()"
   ]
  },
  {
   "cell_type": "code",
   "execution_count": 9,
   "id": "ccd5fae6",
   "metadata": {},
   "outputs": [
    {
     "data": {
      "text/plain": [
       "distance            0\n",
       "cab_type            0\n",
       "time_stamp          0\n",
       "destination         0\n",
       "source              0\n",
       "price               0\n",
       "surge_multiplier    0\n",
       "id                  0\n",
       "product_id          0\n",
       "name                0\n",
       "dtype: int64"
      ]
     },
     "execution_count": 9,
     "metadata": {},
     "output_type": "execute_result"
    }
   ],
   "source": [
    "cabData.isnull().sum()"
   ]
  },
  {
   "cell_type": "code",
   "execution_count": 10,
   "id": "9ac3fd1b",
   "metadata": {},
   "outputs": [
    {
     "name": "stdout",
     "output_type": "stream",
     "text": [
      "<class 'pandas.core.frame.DataFrame'>\n",
      "Int64Index: 637976 entries, 0 to 693070\n",
      "Data columns (total 10 columns):\n",
      " #   Column            Non-Null Count   Dtype  \n",
      "---  ------            --------------   -----  \n",
      " 0   distance          637976 non-null  float64\n",
      " 1   cab_type          637976 non-null  object \n",
      " 2   time_stamp        637976 non-null  float64\n",
      " 3   destination       637976 non-null  object \n",
      " 4   source            637976 non-null  object \n",
      " 5   price             637976 non-null  float64\n",
      " 6   surge_multiplier  637976 non-null  float64\n",
      " 7   id                637976 non-null  object \n",
      " 8   product_id        637976 non-null  object \n",
      " 9   name              637976 non-null  object \n",
      "dtypes: float64(4), object(6)\n",
      "memory usage: 53.5+ MB\n"
     ]
    }
   ],
   "source": [
    "cabData.info()"
   ]
  },
  {
   "cell_type": "code",
   "execution_count": 13,
   "id": "572306a0",
   "metadata": {},
   "outputs": [],
   "source": [
    "cat_columns = cabData.select_dtypes(['object']).columns\n",
    "# convert all categorical columns to numeric\n",
    "cabData[cat_columns] = cabData[cat_columns].apply(lambda x: pd.factorize(x)[0])"
   ]
  },
  {
   "cell_type": "markdown",
   "id": "b1711f7d",
   "metadata": {},
   "source": [
    "# KMeans Clustering"
   ]
  },
  {
   "cell_type": "code",
   "execution_count": 14,
   "id": "54b83e5c",
   "metadata": {},
   "outputs": [],
   "source": [
    "import pandas as pd\n",
    "import pylab as pl\n",
    "from sklearn.cluster import KMeans\n",
    "from sklearn.decomposition import PCA"
   ]
  },
  {
   "cell_type": "code",
   "execution_count": 15,
   "id": "faa27bd4",
   "metadata": {},
   "outputs": [
    {
     "data": {
      "image/png": "[encoded data removed]",
      "text/plain": [
       "<Figure size 432x288 with 2 Axes>"
      ]
     },
     "metadata": {
      "needs_background": "light"
     },
     "output_type": "display_data"
    }
   ],
   "source": [
    "corr = cabData.corr()\n",
    "fig = plt.figure()\n",
    "ax = fig.add_subplot(111)\n",
    "cax = ax.matshow(corr,cmap='coolwarm', vmin=-1, vmax=1)\n",
    "fig.colorbar(cax)\n",
    "ticks = np.arange(0,len(cabData.columns),1)\n",
    "ax.set_xticks(ticks)\n",
    "plt.xticks(rotation=90)\n",
    "ax.set_yticks(ticks)\n",
    "ax.set_xticklabels(cabData.columns)\n",
    "ax.set_yticklabels(cabData.columns)\n",
    "plt.show()"
   ]
  },
  {
   "cell_type": "markdown",
   "id": "2ee4029f",
   "metadata": {},
   "source": [
    "##### From the above plot we can see that distance and time_stamp are highly correlated"
   ]
  },
  {
   "cell_type": "code",
   "execution_count": 19,
   "id": "6968511e",
   "metadata": {},
   "outputs": [
    {
     "data": {
      "text/html": [
       "<div>\n",
       "<style scoped>\n",
       "    .dataframe tbody tr th:only-of-type {\n",
       "        vertical-align: middle;\n",
       "    }\n",
       "\n",
       "    .dataframe tbody tr th {\n",
       "        vertical-align: top;\n",
       "    }\n",
       "\n",
       "    .dataframe thead th {\n",
       "        text-align: right;\n",
       "    }\n",
       "</style>\n",
       "<table border=\"1\" class=\"dataframe\">\n",
       "  <thead>\n",
       "    <tr style=\"text-align: right;\">\n",
       "      <th></th>\n",
       "      <th>surge_multiplier</th>\n",
       "      <th>distance</th>\n",
       "      <th>price</th>\n",
       "    </tr>\n",
       "  </thead>\n",
       "  <tbody>\n",
       "    <tr>\n",
       "      <th>0</th>\n",
       "      <td>1.0</td>\n",
       "      <td>0.44</td>\n",
       "      <td>5.0</td>\n",
       "    </tr>\n",
       "    <tr>\n",
       "      <th>1</th>\n",
       "      <td>1.0</td>\n",
       "      <td>0.44</td>\n",
       "      <td>11.0</td>\n",
       "    </tr>\n",
       "    <tr>\n",
       "      <th>2</th>\n",
       "      <td>1.0</td>\n",
       "      <td>0.44</td>\n",
       "      <td>7.0</td>\n",
       "    </tr>\n",
       "    <tr>\n",
       "      <th>3</th>\n",
       "      <td>1.0</td>\n",
       "      <td>0.44</td>\n",
       "      <td>26.0</td>\n",
       "    </tr>\n",
       "    <tr>\n",
       "      <th>4</th>\n",
       "      <td>1.0</td>\n",
       "      <td>0.44</td>\n",
       "      <td>9.0</td>\n",
       "    </tr>\n",
       "  </tbody>\n",
       "</table>\n",
       "</div>"
      ],
      "text/plain": [
       "   surge_multiplier  distance  price\n",
       "0               1.0      0.44    5.0\n",
       "1               1.0      0.44   11.0\n",
       "2               1.0      0.44    7.0\n",
       "3               1.0      0.44   26.0\n",
       "4               1.0      0.44    9.0"
      ]
     },
     "execution_count": 19,
     "metadata": {},
     "output_type": "execute_result"
    }
   ],
   "source": [
    "croppedData = cabData[['surge_multiplier', 'distance','price']]\n",
    "croppedData.head()"
   ]
  },
  {
   "cell_type": "code",
   "execution_count": 20,
   "id": "797db87c",
   "metadata": {},
   "outputs": [],
   "source": [
    "X = croppedData[['distance']]\n",
    "Y = croppedData[['price']]"
   ]
  },
  {
   "cell_type": "code",
   "execution_count": 21,
   "id": "8c100b20",
   "metadata": {},
   "outputs": [
    {
     "data": {
      "image/png": "[encoded data removed]",
      "text/plain": [
       "<Figure size 432x288 with 1 Axes>"
      ]
     },
     "metadata": {
      "needs_background": "light"
     },
     "output_type": "display_data"
    }
   ],
   "source": [
    "Nc = range(1, 10)\n",
    "kmeans = [KMeans(n_clusters=i) for i in Nc]\n",
    "kmeans\n",
    "score = [kmeans[i].fit(Y).score(Y) for i in range(len(kmeans))]\n",
    "score\n",
    "pl.plot(Nc,score)\n",
    "pl.xlabel('Number of Clusters')\n",
    "pl.ylabel('Score')\n",
    "pl.title('Elbow Curve')\n",
    "pl.show()"
   ]
  },
  {
   "cell_type": "markdown",
   "id": "c3ca8fcb",
   "metadata": {},
   "source": [
    "#### Performing Principal Component Analysis "
   ]
  },
  {
   "cell_type": "code",
   "execution_count": 22,
   "id": "59263c0f",
   "metadata": {},
   "outputs": [],
   "source": [
    "pca = PCA(n_components=1).fit(Y)\n",
    "pca_d = pca.transform(Y)\n",
    "pca_c = pca.transform(X)"
   ]
  },
  {
   "cell_type": "markdown",
   "id": "c505f317",
   "metadata": {},
   "source": [
    "#### Performing K-Means"
   ]
  },
  {
   "cell_type": "code",
   "execution_count": 23,
   "id": "85f28ef5",
   "metadata": {},
   "outputs": [
    {
     "data": {
      "image/png": "[encoded data removed]",
      "text/plain": [
       "<Figure size 432x288 with 1 Axes>"
      ]
     },
     "metadata": {
      "needs_background": "light"
     },
     "output_type": "display_data"
    }
   ],
   "source": [
    "kmeans=KMeans(n_clusters=4)\n",
    "kmeansoutput=kmeans.fit(Y)\n",
    "kmeansoutput\n",
    "pl.figure('4 Cluster K-Means')\n",
    "#pl.scatter(pca_c[:, 0], pca_d[:, 0], c=kmeansoutput.labels_)\n",
    "pl.scatter(pca_c[:, 0], pca_d[:, 0], c=kmeansoutput.labels_.astype('float'), marker='o', s=15)\n",
    "pl.xlabel('Distance')\n",
    "pl.ylabel('Price')\n",
    "pl.title('4 Cluster K-Means')\n",
    "pl.show()"
   ]
  },
  {
   "cell_type": "code",
   "execution_count": 24,
   "id": "1ea6423e",
   "metadata": {},
   "outputs": [],
   "source": [
    "from scipy.stats import pearsonr, spearmanr"
   ]
  },
  {
   "cell_type": "code",
   "execution_count": 25,
   "id": "384bbf06",
   "metadata": {},
   "outputs": [
    {
     "data": {
      "text/plain": [
       "0.24045812658965857"
      ]
     },
     "execution_count": 25,
     "metadata": {},
     "output_type": "execute_result"
    }
   ],
   "source": [
    "corr,_ = pearsonr(cabData['surge_multiplier'], cabData['price'])\n",
    "corr"
   ]
  },
  {
   "cell_type": "code",
   "execution_count": 26,
   "id": "4d6c8dcc",
   "metadata": {},
   "outputs": [
    {
     "data": {
      "text/plain": [
       "0.33387141139398013"
      ]
     },
     "execution_count": 26,
     "metadata": {},
     "output_type": "execute_result"
    }
   ],
   "source": [
    "corr,_ = spearmanr(cabData['distance'], cabData['price'])\n",
    "corr"
   ]
  },
  {
   "cell_type": "code",
   "execution_count": null,
   "id": "78c1ba6d",
   "metadata": {},
   "outputs": [],
   "source": []
  }
 ],
 "metadata": {
  "kernelspec": {
   "display_name": "Python 3 (ipykernel)",
   "language": "python",
   "name": "python3"
  },
  "language_info": {
   "codemirror_mode": {
    "name": "ipython",
    "version": 3
   },
   "file_extension": ".py",
   "mimetype": "text/x-python",
   "name": "python",
   "nbconvert_exporter": "python",
   "pygments_lexer": "ipython3",
   "version": "3.9.7"
  }
 },
 "nbformat": 4,
 "nbformat_minor": 5
}
